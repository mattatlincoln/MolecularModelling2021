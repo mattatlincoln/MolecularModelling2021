{
 "cells": [
  {
   "cell_type": "markdown",
   "metadata": {},
   "source": [
    "# Module Handbook\n",
    "\n",
    "this document sets out the aims of the module, learning objectives and provides some use background material and suggestions.\n",
    "\n",
    "### Module synopsis\n",
    "\n",
    "'The module introduces modern computational techniques for molecular modelling in condensed\n",
    "matter physics.'"
   ]
  },
  {
   "cell_type": "markdown",
   "metadata": {},
   "source": [
    "## Overview\n",
    "\n",
    "- Learning objectives\n",
    "- Assessment\n",
    "- Deadlines\n",
    "- Module Contents\n",
    "- Tools"
   ]
  },
  {
   "cell_type": "markdown",
   "metadata": {},
   "source": [
    "## Learning Objectives\n",
    "\n",
    "- LO1 Explain main concepts of MD and MC and their applications to condensed matter physics\n",
    "- LO2 Design, implement and execute basic computer program relevant to the material of the syllabus.\n",
    "- LO3 Critical analyse problems in molecular modelling and solve them using moderns MD simulation."
   ]
  },
  {
   "cell_type": "markdown",
   "metadata": {},
   "source": [
    "## Learning and Teaching Strategy/Methods\n",
    "\n",
    "The total student effort for this module is 150 hours on average. This total includes: - Lectures, which introduce and discuss core concept and issues. During the lectures the students will also be directed towards recommended reading material and on-line resources. \n",
    "\n",
    "Research-informed material will be introduced as examples where appropriate. -Practical workshops, which offer the opportunity to practically apply topics covered within the lecture programme and in the module's recommended textbooks. \n",
    "\n",
    "Workshops support students to review their understanding of the module lectures, assigned readings, and applying them in the practical work involved in the assignment."
   ]
  },
  {
   "cell_type": "markdown",
   "metadata": {},
   "source": [
    "## Assessments\n",
    "\n",
    "The module is assessed via a composite portfolio including assessment of 2 mini-projects and oral presentation of them.\n",
    "\n",
    "\n",
    "|Assessment Method |Weighting (%) | Learning Outcome(s)|\n",
    "|--|--|--|\n",
    "|Portfolio | 100 | LO1, LO2, LO3|\n",
    "\n",
    "The two mini projects are equally weighted and the viva is worth 20% of each project."
   ]
  },
  {
   "cell_type": "markdown",
   "metadata": {},
   "source": [
    "## Module Contents\n",
    "\n",
    "The module will typically cover topics including:\n",
    "\n",
    "- Introduction to molecular modelling concepts, Molecular Dynamics (MD) equations, MD programs and algorithms.\n",
    "- Basic Molecular Dynamics program and initialization.\n",
    "- Forces calculation: Lennard-Jones potential, Stillinger-Weber potential, truncation and shift of the potential.\n",
    "- Equations of motion: Taylor expansion algorithm, Verlet algorithm, Leap-frog algorithm, Beeman algorithm.\n",
    "- MD analysis: radial distribution, mean square displacement\n",
    "- Thermostats: Berendsen thermostat, Andersen thermostat, Nosé-Hoover Thermostat.\n",
    "- Free Energy Calculation: thermodynamic integration, chemical potentials, umbrella sampling.\n",
    "- Elements of Monte Carlo (MC) simulation: MC method, Metropolis method\n",
    "- Simulation time economy: boundary conditions, Verlet list, cell list.\n",
    "- Applications in macromolecular modelling, the force fields, molecular visualization.\n",
    "- Application of Density Function Theory in Molecular Dynamics and materials simulation"
   ]
  },
  {
   "cell_type": "markdown",
   "metadata": {},
   "source": [
    "## Indicative reading \n",
    "\n",
    "can be found on on the Blackboard site."
   ]
  },
  {
   "cell_type": "markdown",
   "metadata": {},
   "source": [
    "## Tools\n",
    "\n",
    "The main tool for this module (apart from textbooks) will be the CP2K atomistic simulation programme - website [here](http://cp2k.org).\n",
    "\n",
    "![CP2K](https://www.cp2k.org/_media/wiki:logo.png)\n",
    "\n",
    "We will use it as our main energy-force calculation engine for a range of Hamiltonians."
   ]
  }
 ],
 "metadata": {
  "kernelspec": {
   "display_name": "Python 3",
   "language": "python",
   "name": "python3"
  },
  "language_info": {
   "codemirror_mode": {
    "name": "ipython",
    "version": 3
   },
   "file_extension": ".py",
   "mimetype": "text/x-python",
   "name": "python",
   "nbconvert_exporter": "python",
   "pygments_lexer": "ipython3",
   "version": "3.7.7"
  }
 },
 "nbformat": 4,
 "nbformat_minor": 4
}
