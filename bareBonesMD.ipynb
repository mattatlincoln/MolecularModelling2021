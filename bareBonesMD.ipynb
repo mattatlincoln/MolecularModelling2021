{
 "cells": [
  {
   "cell_type": "markdown",
   "metadata": {},
   "source": [
    "# Implement a crude Molecular Dynamics code for a LJ system\n",
    "\n",
    "let's start with 2 atoms"
   ]
  },
  {
   "cell_type": "code",
   "execution_count": 1,
   "metadata": {},
   "outputs": [],
   "source": [
    "import matplotlib.pyplot as plt\n",
    "import numpy as np"
   ]
  },
  {
   "cell_type": "code",
   "execution_count": 2,
   "metadata": {},
   "outputs": [
    {
     "data": {
      "text/plain": [
       "1.5"
      ]
     },
     "execution_count": 2,
     "metadata": {},
     "output_type": "execute_result"
    }
   ],
   "source": [
    "ri = 0\n",
    "rj = 1.5\n",
    "rij = abs(rj-ri)\n",
    "rij"
   ]
  },
  {
   "cell_type": "markdown",
   "metadata": {},
   "source": [
    "Energy function for atom pair by\n",
    "$$ E_{LJ} = 4 \\epsilon \\left( \\left(\\frac{\\sigma}{r_{ij}}\\right)^{12} - \\left(\\frac{\\sigma}{r_{ij}}\\right)^{6} \\right)$$"
   ]
  },
  {
   "cell_type": "code",
   "execution_count": 3,
   "metadata": {},
   "outputs": [
    {
     "data": {
      "text/plain": [
       "(-0.1, 0.2)"
      ]
     },
     "execution_count": 3,
     "metadata": {},
     "output_type": "execute_result"
    },
    {
     "data": {
      "image/png": "[encoded data removed]",
      "text/plain": [
       "<Figure size 432x288 with 1 Axes>"
      ]
     },
     "metadata": {
      "needs_background": "light"
     },
     "output_type": "display_data"
    }
   ],
   "source": [
    "epsilon = 0.05\n",
    "sigma = 1.0\n",
    "def energy_at_rij(rij, epsilon=0.05, sigma=1.0):\n",
    "    E_LJ = 4*epsilon*((sigma/rij)**12-(sigma/rij)**6)\n",
    "    return E_LJ\n",
    "x = np.linspace(0.75,5,100)\n",
    "plt.plot(x,energy_at_rij(x))\n",
    "plt.ylim(-0.1, 0.2)"
   ]
  },
  {
   "cell_type": "markdown",
   "metadata": {},
   "source": [
    "The forces on atoms are given by \n",
    "\n",
    "$$\\frac{\\delta E_{LJ}}{\\delta r_i} = \\frac{\\delta E_{LJ}}{\\delta r_{ij}} \\cdot \\frac{\\delta r_{ij}}{\\delta r_i} \\qquad \\text{and} \\qquad \\frac{\\delta E_{LJ}}{\\delta r_j}  = \\frac{\\delta E_{LJ}}{\\delta r_{ij}} \\cdot \\frac{\\delta r_{ij}}{\\delta r_j}$$ "
   ]
  },
  {
   "cell_type": "code",
   "execution_count": 4,
   "metadata": {},
   "outputs": [
    {
     "data": {
      "text/plain": [
       "0.057901441552307795"
      ]
     },
     "execution_count": 4,
     "metadata": {},
     "output_type": "execute_result"
    }
   ],
   "source": [
    "dE_LJdrij = -4*epsilon*12*sigma**12/(rij)**13 + 4*epsilon*6*sigma**6/(rij)**7\n",
    "dE_LJdrij"
   ]
  },
  {
   "cell_type": "code",
   "execution_count": 5,
   "metadata": {},
   "outputs": [],
   "source": [
    "# logic to evaluate the derivate of the absolute operator\n",
    "if ri > rj: \n",
    "    drijdri = 1.0\n",
    "    drijdrj = -1.0\n",
    "else:\n",
    "    drijdri = -1.0\n",
    "    drijdrj = 1.0    "
   ]
  },
  {
   "cell_type": "code",
   "execution_count": 6,
   "metadata": {},
   "outputs": [
    {
     "name": "stdout",
     "output_type": "stream",
     "text": [
      "Forces on atoms i and j are -0.057901441552307795 0.057901441552307795 respectively.\n"
     ]
    }
   ],
   "source": [
    "Fi = dE_LJdrij*drijdri\n",
    "Fj = dE_LJdrij*drijdrj\n",
    "print(\"Forces on atoms i and j are {} {} respectively.\".format(Fi,Fj) )"
   ]
  },
  {
   "cell_type": "markdown",
   "metadata": {},
   "source": [
    "We have $$F_i = m_i \\frac{d ^2 r_i}{d t^2} \\qquad \\text{and} \\qquad F_j = m_j \\frac{d ^2 r_j}{d t^2}$$\n",
    "which we can integrate to get our positions and velocities at different times. \n",
    "\n",
    "There are a number of subtleties in the choice of integration that we will discuss. \n",
    "\n",
    "But a simple [Euler method](https://en.wikipedia.org/wiki/Euler_method) should get you up and running."
   ]
  },
  {
   "cell_type": "markdown",
   "metadata": {},
   "source": [
    "## Challenge\n",
    "\n",
    "So can you run a MD simulation and plot the positions and velocities of the particles as a function of time?"
   ]
  },
  {
   "cell_type": "code",
   "execution_count": 19,
   "metadata": {},
   "outputs": [],
   "source": [
    "def energy_at_rij(ri, rj, epsilon=1.0, sigma=1.0):\n",
    "    rij = abs(rj-ri)\n",
    "    E_LJ = 4*epsilon*((sigma/rij)**12-(sigma/rij)**6)\n",
    "    return E_LJ\n",
    "\n",
    "def calc_forces(ri,rj, epsilon=1.0, sigma=1.0):\n",
    "    rij = abs(rj-ri)\n",
    "    dE_LJdrij = -4*epsilon*12*sigma**12/(rij)**13 + 4*epsilon*6*sigma**6/(rij)**7\n",
    "    if ri > rj: \n",
    "        print(\"don't cross the beams\") # this shouldn't happen in 1D with a repulsive close range force.\n",
    "        drijdri = -1.0\n",
    "        drijdrj = 1.0\n",
    "    else:\n",
    "        drijdri = 1.0\n",
    "        drijdrj = -1.0   \n",
    "    Fi = dE_LJdrij*drijdri\n",
    "    Fj = dE_LJdrij*drijdrj\n",
    "    return Fi, Fj"
   ]
  },
  {
   "cell_type": "code",
   "execution_count": 43,
   "metadata": {},
   "outputs": [],
   "source": [
    "# initialize our initial conditions\n",
    "ri = 0\n",
    "rj = 3.0\n",
    "vi = 0.0\n",
    "vj = -0.1\n",
    "# assume m is 1 for all particles\n",
    "# this assumption could make the motion quite sensitive\n",
    "dt = 0.001\n",
    "\n",
    "# set up some empty arrays to store the trjectory variables\n",
    "xitraj = []\n",
    "vitraj = []\n",
    "xjtraj = []\n",
    "vjtraj = []\n",
    "rijtraj = []\n",
    "Fitraj = []\n",
    "Fjtraj = []\n",
    "E_LJ = []\n",
    "E_LJ.append(energy_at_rij(ri, rj))\n",
    "xitraj.append(ri)\n",
    "xjtraj.append(rj)\n",
    "rijtraj.append(rj)\n",
    "vitraj.append(vi)\n",
    "vjtraj.append(vj)    \n",
    "Fitraj.append(Fi)\n",
    "Fjtraj.append(Fj)    \n",
    "\n",
    "for step in range(5000):\n",
    "    Fi, Fj = calc_forces(ri, rj)\n",
    "    ri = ri + vi*dt + 0.5*Fi*dt**2\n",
    "    rj = rj + vj*dt + 0.5*Fj*dt**2\n",
    "    vi = vi + Fi*dt\n",
    "    vj = vj + Fj*dt\n",
    "    E_LJ.append(energy_at_rij(ri, rj))\n",
    "    xitraj.append(ri)\n",
    "    xjtraj.append(rj)\n",
    "    rijtraj.append(abs(rj-ri))\n",
    "    vitraj.append(vi)\n",
    "    vjtraj.append(vj)\n",
    "    Fitraj.append(Fi)\n",
    "    Fjtraj.append(Fj)    "
   ]
  },
  {
   "cell_type": "code",
   "execution_count": 44,
   "metadata": {},
   "outputs": [
    {
     "data": {
      "image/png": "[encoded data removed]",
      "text/plain": [
       "<Figure size 432x288 with 1 Axes>"
      ]
     },
     "metadata": {
      "needs_background": "light"
     },
     "output_type": "display_data"
    }
   ],
   "source": [
    "plt.plot(xitraj)\n",
    "plt.plot(xjtraj);"
   ]
  },
  {
   "cell_type": "code",
   "execution_count": 45,
   "metadata": {},
   "outputs": [
    {
     "data": {
      "image/png": "[encoded data removed]",
      "text/plain": [
       "<Figure size 432x288 with 1 Axes>"
      ]
     },
     "metadata": {
      "needs_background": "light"
     },
     "output_type": "display_data"
    }
   ],
   "source": [
    "plt.plot(rijtraj)\n",
    "plt.plot(E_LJ);"
   ]
  },
  {
   "cell_type": "code",
   "execution_count": 46,
   "metadata": {},
   "outputs": [
    {
     "data": {
      "text/plain": [
       "[<matplotlib.lines.Line2D at 0x190534d3b88>]"
      ]
     },
     "execution_count": 46,
     "metadata": {},
     "output_type": "execute_result"
    },
    {
     "data": {
      "image/png": "[encoded data removed]",
      "text/plain": [
       "<Figure size 432x288 with 1 Axes>"
      ]
     },
     "metadata": {
      "needs_background": "light"
     },
     "output_type": "display_data"
    }
   ],
   "source": [
    "plt.plot(rijtraj, E_LJ)"
   ]
  },
  {
   "cell_type": "code",
   "execution_count": 47,
   "metadata": {},
   "outputs": [
    {
     "data": {
      "image/png": "[encoded data removed]",
      "text/plain": [
       "<Figure size 432x288 with 1 Axes>"
      ]
     },
     "metadata": {
      "needs_background": "light"
     },
     "output_type": "display_data"
    }
   ],
   "source": [
    "plt.plot(vitraj)\n",
    "plt.plot(vjtraj);"
   ]
  },
  {
   "cell_type": "code",
   "execution_count": 48,
   "metadata": {},
   "outputs": [
    {
     "data": {
      "image/png": "[encoded data removed]",
      "text/plain": [
       "<Figure size 432x288 with 1 Axes>"
      ]
     },
     "metadata": {
      "needs_background": "light"
     },
     "output_type": "display_data"
    }
   ],
   "source": [
    "kE = 0.5*(np.array(vitraj)**2 + np.array(vjtraj)**2)\n",
    "plt.plot(E_LJ)\n",
    "plt.plot(kE)\n",
    "plt.plot(E_LJ+kE)\n",
    "plt.plot();"
   ]
  },
  {
   "cell_type": "code",
   "execution_count": null,
   "metadata": {},
   "outputs": [],
   "source": []
  }
 ],
 "metadata": {
  "kernelspec": {
   "display_name": "Python 3",
   "language": "python",
   "name": "python3"
  },
  "language_info": {
   "codemirror_mode": {
    "name": "ipython",
    "version": 3
   },
   "file_extension": ".py",
   "mimetype": "text/x-python",
   "name": "python",
   "nbconvert_exporter": "python",
   "pygments_lexer": "ipython3",
   "version": "3.7.7"
  }
 },
 "nbformat": 4,
 "nbformat_minor": 4
}
